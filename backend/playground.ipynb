{
 "cells": [
  {
   "cell_type": "code",
   "execution_count": 2,
   "metadata": {},
   "outputs": [],
   "source": [
    "import json"
   ]
  },
  {
   "cell_type": "code",
   "execution_count": 4,
   "metadata": {},
   "outputs": [],
   "source": [
    "arr = []\n",
    "with open('sample_sale_data.json', 'r', encoding='utf-8') as file:\n",
    "    data = json.load(file)"
   ]
  },
  {
   "cell_type": "code",
   "execution_count": 7,
   "metadata": {},
   "outputs": [],
   "source": [
    "sale_data = {\n",
    "            \"userID\": '1111',\n",
    "            \"name\": '홍길동',\n",
    "            \"status\": '일반',\n",
    "            \"price\": 3500,\n",
    "            \"ticketNumber\": 11\n",
    "        } "
   ]
  },
  {
   "cell_type": "code",
   "execution_count": 8,
   "metadata": {},
   "outputs": [],
   "source": [
    "data.append(sale_data)"
   ]
  },
  {
   "cell_type": "code",
   "execution_count": 10,
   "metadata": {},
   "outputs": [
    {
     "data": {
      "text/plain": [
       "list"
      ]
     },
     "execution_count": 10,
     "metadata": {},
     "output_type": "execute_result"
    }
   ],
   "source": [
    "type(data)"
   ]
  },
  {
   "cell_type": "code",
   "execution_count": 11,
   "metadata": {},
   "outputs": [
    {
     "data": {
      "text/plain": [
       "[{'user_id': '1407067',\n",
       "  'user_name': '최옥희',\n",
       "  'status': '기초생활수급권자',\n",
       "  'price': 0,\n",
       "  'ticket_number': 1},\n",
       " {'user_id': '1609020',\n",
       "  'user_name': '구연자',\n",
       "  'status': '기타',\n",
       "  'price': 1750,\n",
       "  'ticket_number': 2},\n",
       " {'user_id': '1609065',\n",
       "  'user_name': '이장례',\n",
       "  'status': '기초생활수급권자',\n",
       "  'price': 0,\n",
       "  'ticket_number': 3},\n",
       " {'user_id': '2407019',\n",
       "  'user_name': '윤정순',\n",
       "  'status': '기초생활수급권자',\n",
       "  'price': 0,\n",
       "  'ticket_number': 4},\n",
       " {'user_id': '1312158',\n",
       "  'user_name': '박정옥',\n",
       "  'status': '기초생활수급권자',\n",
       "  'price': 0,\n",
       "  'ticket_number': 5},\n",
       " {'user_id': '2209029',\n",
       "  'user_name': '권연자 ',\n",
       "  'status': '기초생활수급권자',\n",
       "  'price': 0,\n",
       "  'ticket_number': 6},\n",
       " {'userID': '1111',\n",
       "  'name': '홍길동',\n",
       "  'status': '일반',\n",
       "  'price': 3500,\n",
       "  'ticketNumber': 11}]"
      ]
     },
     "execution_count": 11,
     "metadata": {},
     "output_type": "execute_result"
    }
   ],
   "source": [
    "data"
   ]
  },
  {
   "cell_type": "code",
   "execution_count": null,
   "metadata": {},
   "outputs": [],
   "source": []
  }
 ],
 "metadata": {
  "kernelspec": {
   "display_name": ".venv",
   "language": "python",
   "name": "python3"
  },
  "language_info": {
   "codemirror_mode": {
    "name": "ipython",
    "version": 3
   },
   "file_extension": ".py",
   "mimetype": "text/x-python",
   "name": "python",
   "nbconvert_exporter": "python",
   "pygments_lexer": "ipython3",
   "version": "3.12.5"
  }
 },
 "nbformat": 4,
 "nbformat_minor": 2
}
